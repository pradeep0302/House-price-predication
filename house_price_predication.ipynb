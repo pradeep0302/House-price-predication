{
  "cells": [
    {
      "cell_type": "code",
      "execution_count": null,
      "metadata": {
        "id": "f1ce143f"
      },
      "outputs": [],
      "source": [
        "import pandas as pd\n",
        "import numpy as np\n",
        "import matplotlib.pyplot as plt\n",
        "import seaborn as sns\n",
        "import datetime as dt\n",
        "\n",
        "%matplotlib inline\n",
        "plt.rcParams['figure.figsize'] = (17,9)\n",
        "plt.rcParams['font.size'] = 11\n",
        "pd.set_option(\"display.max_rows\", None, \"display.max_columns\", None)\n",
        "plt.rcParams['figure.dpi'] = 70\n",
        "sns.set_style('darkgrid')\n",
        "import warnings\n",
        "warnings.filterwarnings(\"ignore\")\n"
      ],
      "id": "f1ce143f"
    },
    {
      "cell_type": "code",
      "source": [],
      "metadata": {
        "id": "ntzZF7t6xLm2"
      },
      "id": "ntzZF7t6xLm2",
      "execution_count": null,
      "outputs": []
    },
    {
      "cell_type": "markdown",
      "metadata": {
        "id": "19d539b9"
      },
      "source": [
        "# Problem statement\n",
        "Real estate transactions are quite opaque sometimes and it\n",
        "may be difficult for a newbie to know the fair price of any given\n",
        "home. Thus, multiple real estate websites have the functionality\n",
        "to predict the prices of houses given different features\n",
        "regarding it. Such forecasting models will help buyers to identify\n",
        "a fair price for the home and also give insights to sellers as to\n",
        "how to build homes that fetch them more money. Chennai\n",
        "house sale price data is shared here and the participants are\n",
        "expected to build a sale price prediction model that will aid the\n",
        "customers to find a fair price for their homes and also help the\n",
        "sellers understand what factors are fetching more money\n",
        "for the houses?\n"
      ],
      "id": "19d539b9"
    },
    {
      "cell_type": "markdown",
      "metadata": {
        "id": "64a26a70"
      },
      "source": [
        "understanding Attributes in the data:\n",
        "PART_Id: Id of the particular house i.e. Project ID\n",
        "\n",
        "AREA: The area where house is situated\n",
        "\n",
        "INT_SQFT: Total area of the house in square feet.\n",
        "\n",
        "DATE_SALE: The date in which the house got sold\n",
        "\n",
        "DIST_MAINROAD: How many meters the house is far from main road\n",
        "\n",
        "N_BEDROOM: Total Number of Bedrooms\n",
        "\n",
        "N_BATHROOM: Total Number of bathrooms\n",
        "\n",
        "SALE_COND: Types of sale\n",
        "\n",
        "PARK_FACIL: Parking facility\n",
        "\n",
        "DATE_BUILD: The date in which the house was built\n",
        "\n",
        "BUILDTYPE: What type of building it is i.e. residential or commercial\n",
        "\n",
        "UTILITY_AVAIL: What are the public facilities are available\n",
        "\n",
        "STREET: Type of street(road) the house is situated\n",
        "\n",
        "MZZONE: What zone the house belongs to. (There are currently 13 zones in Chennai)\n",
        "\n",
        "QS_ROOMS: Masked rooms\n",
        "\n",
        "QS_BATHROOM: Masked bathrooms\n",
        "\n",
        "QS_BEDROOM: Masked bedroomU\n",
        "\n",
        "QS_OVERALL:\n",
        "\n",
        "REG_FEE: Total registration fee offered to register the house\n",
        "\n",
        "COMMIS: Total commission payed\n",
        "\n",
        "SALES_PRICE: Sale price of the house\n"
      ],
      "id": "64a26a70"
    },
    {
      "cell_type": "markdown",
      "metadata": {
        "id": "a4f3cf9e"
      },
      "source": [
        "### Loading Dataset"
      ],
      "id": "a4f3cf9e"
    },
    {
      "cell_type": "code",
      "execution_count": null,
      "metadata": {
        "id": "24407f2a"
      },
      "outputs": [],
      "source": [
        "data = pd.read_csv(\"chennai.csv\")\n",
        "data.head()"
      ],
      "id": "24407f2a"
    },
    {
      "cell_type": "markdown",
      "metadata": {
        "id": "10ccb479"
      },
      "source": [
        "### Getting information about data"
      ],
      "id": "10ccb479"
    },
    {
      "cell_type": "code",
      "execution_count": null,
      "metadata": {
        "id": "4dfd136f"
      },
      "outputs": [],
      "source": [
        "data.columns"
      ],
      "id": "4dfd136f"
    },
    {
      "cell_type": "code",
      "execution_count": null,
      "metadata": {
        "id": "071e75ff"
      },
      "outputs": [],
      "source": [
        "data.shape"
      ],
      "id": "071e75ff"
    },
    {
      "cell_type": "code",
      "execution_count": null,
      "metadata": {
        "id": "7de691fb"
      },
      "outputs": [],
      "source": [
        "data.info()\n"
      ],
      "id": "7de691fb"
    },
    {
      "cell_type": "code",
      "execution_count": null,
      "metadata": {
        "id": "a6de2481"
      },
      "outputs": [],
      "source": [
        "data.describe()"
      ],
      "id": "a6de2481"
    },
    {
      "cell_type": "markdown",
      "metadata": {
        "id": "0d504f65"
      },
      "source": [
        "\n",
        "## Data cleaning"
      ],
      "id": "0d504f65"
    },
    {
      "cell_type": "markdown",
      "metadata": {
        "id": "bff2bb49"
      },
      "source": [
        "##### Checking and filling null values"
      ],
      "id": "bff2bb49"
    },
    {
      "cell_type": "code",
      "execution_count": null,
      "metadata": {
        "id": "f9cbc22b"
      },
      "outputs": [],
      "source": [
        "#checking null values\n",
        "data.isnull().sum()"
      ],
      "id": "f9cbc22b"
    },
    {
      "cell_type": "code",
      "execution_count": null,
      "metadata": {
        "id": "1d1a0ebc"
      },
      "outputs": [],
      "source": [
        "data.isnull().sum()/data.shape[0]*100"
      ],
      "id": "1d1a0ebc"
    },
    {
      "cell_type": "markdown",
      "metadata": {
        "id": "8dd3235a"
      },
      "source": [
        "\n",
        "##### so we can see there are missing values in only three columns : N_beroom- 0.014% , N_bathroom:-0.07% and Qs overall :- 0.67%"
      ],
      "id": "8dd3235a"
    },
    {
      "cell_type": "code",
      "execution_count": null,
      "metadata": {
        "id": "24f95842"
      },
      "outputs": [],
      "source": [
        "sns.heatmap(data.isnull())\n",
        "plt.show()\n",
        "#visualising missing values"
      ],
      "id": "24f95842"
    },
    {
      "cell_type": "markdown",
      "metadata": {
        "id": "a9d5b973"
      },
      "source": [
        "#### filling missing values"
      ],
      "id": "a9d5b973"
    },
    {
      "cell_type": "code",
      "execution_count": null,
      "metadata": {
        "id": "f1a5da28"
      },
      "outputs": [],
      "source": [
        "print(data.N_BATHROOM.isnull().sum())"
      ],
      "id": "f1a5da28"
    },
    {
      "cell_type": "code",
      "execution_count": null,
      "metadata": {
        "id": "c720baf9"
      },
      "outputs": [],
      "source": [
        "print(\"mode:\",data.N_BATHROOM.mode())\n",
        "print(\"mean:\",data.N_BATHROOM.mean())"
      ],
      "id": "c720baf9"
    },
    {
      "cell_type": "code",
      "execution_count": null,
      "metadata": {
        "id": "c44a15d5"
      },
      "outputs": [],
      "source": [
        "data.N_BATHROOM.fillna(1,inplace = True)"
      ],
      "id": "c44a15d5"
    },
    {
      "cell_type": "markdown",
      "metadata": {
        "id": "b8595a9b"
      },
      "source": [
        "we are filling the missing values in N_bthroom columns as 1 because the mean is 1.21 and no of bathroom cant be 1.21 so we will fill with median"
      ],
      "id": "b8595a9b"
    },
    {
      "cell_type": "code",
      "execution_count": null,
      "metadata": {
        "id": "7d78d603"
      },
      "outputs": [],
      "source": [
        "data.N_BATHROOM.isnull().sum()"
      ],
      "id": "7d78d603"
    },
    {
      "cell_type": "code",
      "execution_count": null,
      "metadata": {
        "id": "ca58a69a"
      },
      "outputs": [],
      "source": [
        "data.N_BEDROOM.isnull().sum()"
      ],
      "id": "ca58a69a"
    },
    {
      "cell_type": "code",
      "execution_count": null,
      "metadata": {
        "id": "990518bf"
      },
      "outputs": [],
      "source": [
        "data.N_BEDROOM.fillna(1, inplace = True)"
      ],
      "id": "990518bf"
    },
    {
      "cell_type": "code",
      "execution_count": null,
      "metadata": {
        "id": "b98fad3f"
      },
      "outputs": [],
      "source": [
        "data.QS_OVERALL.isnull().sum()"
      ],
      "id": "b98fad3f"
    },
    {
      "cell_type": "code",
      "execution_count": null,
      "metadata": {
        "id": "369bc2c5"
      },
      "outputs": [],
      "source": [
        "data.QS_OVERALL.mean()"
      ],
      "id": "369bc2c5"
    },
    {
      "cell_type": "code",
      "execution_count": null,
      "metadata": {
        "id": "d636332a"
      },
      "outputs": [],
      "source": [
        "data.QS_OVERALL.fillna(3.50, inplace = True)"
      ],
      "id": "d636332a"
    },
    {
      "cell_type": "code",
      "execution_count": null,
      "metadata": {
        "id": "ce61e627"
      },
      "outputs": [],
      "source": [
        "sns.heatmap(data.isnull(),cmap = \"YlOrRd\")\n",
        "plt.show()\n"
      ],
      "id": "ce61e627"
    },
    {
      "cell_type": "markdown",
      "metadata": {
        "id": "c6c4905e"
      },
      "source": [
        "##### as we can see our data frame is free from null values"
      ],
      "id": "c6c4905e"
    },
    {
      "cell_type": "markdown",
      "metadata": {
        "id": "ce27e4e9"
      },
      "source": [
        "### Finding spelling mistakes"
      ],
      "id": "ce27e4e9"
    },
    {
      "cell_type": "markdown",
      "metadata": {
        "id": "f7c40295"
      },
      "source": [
        "#### find catagorical and numerical columns"
      ],
      "id": "f7c40295"
    },
    {
      "cell_type": "code",
      "execution_count": null,
      "metadata": {
        "id": "76789cc8"
      },
      "outputs": [],
      "source": [
        "cat_col = data.select_dtypes(\"object\")"
      ],
      "id": "76789cc8"
    },
    {
      "cell_type": "code",
      "execution_count": null,
      "metadata": {
        "id": "54e8654b"
      },
      "outputs": [],
      "source": [
        "num_col = data.select_dtypes(exclude=['object'])"
      ],
      "id": "54e8654b"
    },
    {
      "cell_type": "code",
      "execution_count": null,
      "metadata": {
        "id": "24300404"
      },
      "outputs": [],
      "source": [
        "num_col.head()"
      ],
      "id": "24300404"
    },
    {
      "cell_type": "code",
      "execution_count": null,
      "metadata": {
        "id": "7eef6d62"
      },
      "outputs": [],
      "source": [
        "cat_col.head()"
      ],
      "id": "7eef6d62"
    },
    {
      "cell_type": "code",
      "execution_count": null,
      "metadata": {
        "id": "5062347e"
      },
      "outputs": [],
      "source": [
        "cat_col.shape"
      ],
      "id": "5062347e"
    },
    {
      "cell_type": "code",
      "execution_count": null,
      "metadata": {
        "id": "1659e77d"
      },
      "outputs": [],
      "source": [
        "cat_col.AREA.value_counts()"
      ],
      "id": "1659e77d"
    },
    {
      "cell_type": "markdown",
      "metadata": {
        "id": "2c94fa1e"
      },
      "source": [
        "#### correcting speliings of catogoricals values"
      ],
      "id": "2c94fa1e"
    },
    {
      "cell_type": "code",
      "execution_count": null,
      "metadata": {
        "id": "f2a85ac5"
      },
      "outputs": [],
      "source": [
        "new_area = {\n",
        "    \"Chrompt\":\"Chrompet\",\n",
        "    \"Chrmpet\":\"Chrompet\",\n",
        "    \"Chrmpet\" :\"Chrompet\",\n",
        "    \"Chormpet\":\"Chrompet\",\n",
        "    \"TNagar\":\"T Nagar\",\n",
        "    \"Ana Nagar\":\"Anna Nagar\",\n",
        "    \"Ann Nagar\":\"Anna Nagar\",\n",
        "    \"Karapakam\":\"Karapakkam\",\n",
        "    \"Velchery\":\"Velachery\",\n",
        "    \"KKNagar\":\"KK Nagar\",\n",
        "    \"Adyr\":\"Adyar\",\n",
        "    \"Adayar\":\"Adyar\"\n",
        "\n",
        "}"
      ],
      "id": "f2a85ac5"
    },
    {
      "cell_type": "code",
      "execution_count": null,
      "metadata": {
        "id": "2812d026"
      },
      "outputs": [],
      "source": [
        "data['AREA'] = data.AREA.replace(new_area)"
      ],
      "id": "2812d026"
    },
    {
      "cell_type": "code",
      "execution_count": null,
      "metadata": {
        "id": "d18a5fbe"
      },
      "outputs": [],
      "source": [
        "data.AREA.value_counts()\n"
      ],
      "id": "d18a5fbe"
    },
    {
      "cell_type": "code",
      "execution_count": null,
      "metadata": {
        "id": "1a16e489"
      },
      "outputs": [],
      "source": [
        "cat_col.SALE_COND.value_counts()"
      ],
      "id": "1a16e489"
    },
    {
      "cell_type": "code",
      "execution_count": null,
      "metadata": {
        "id": "fac6de48"
      },
      "outputs": [],
      "source": [
        "sl_cd = {\n",
        "    \"Adj Land\":\"AdjLand\",\n",
        "    \"Ab Normal\":\"AbNormal\",\n",
        "    \"Partiall\":\"Paratial\",\n",
        "    \"PartiaLl\":\"Partial\",\n",
        "    \"Paratial\":\"Partial\",\n",
        "\n",
        "}"
      ],
      "id": "fac6de48"
    },
    {
      "cell_type": "code",
      "execution_count": null,
      "metadata": {
        "id": "f8673f57"
      },
      "outputs": [],
      "source": [
        "data[\"SALE_COND\"] = data.SALE_COND.replace(sl_cd)"
      ],
      "id": "f8673f57"
    },
    {
      "cell_type": "code",
      "execution_count": null,
      "metadata": {
        "id": "2a691e2f"
      },
      "outputs": [],
      "source": [
        "data.SALE_COND.value_counts()"
      ],
      "id": "2a691e2f"
    },
    {
      "cell_type": "code",
      "execution_count": null,
      "metadata": {
        "id": "0caf03fa"
      },
      "outputs": [],
      "source": [
        "data.PARK_FACIL.value_counts()"
      ],
      "id": "0caf03fa"
    },
    {
      "cell_type": "code",
      "execution_count": null,
      "metadata": {
        "id": "63d7c307"
      },
      "outputs": [],
      "source": [
        "data[\"PARK_FACIL\"] = data.PARK_FACIL.replace({\"Noo\":'No'})"
      ],
      "id": "63d7c307"
    },
    {
      "cell_type": "code",
      "execution_count": null,
      "metadata": {
        "id": "553a523b"
      },
      "outputs": [],
      "source": [
        "data.PARK_FACIL.value_counts()"
      ],
      "id": "553a523b"
    },
    {
      "cell_type": "code",
      "execution_count": null,
      "metadata": {
        "id": "53d1b213"
      },
      "outputs": [],
      "source": [
        "data.BUILDTYPE.value_counts()"
      ],
      "id": "53d1b213"
    },
    {
      "cell_type": "code",
      "execution_count": null,
      "metadata": {
        "id": "ebba2ef6"
      },
      "outputs": [],
      "source": [
        "data[\"BUILDTYPE\"]=data.BUILDTYPE.replace({\n",
        "    \"Other\":\"Others\",\n",
        "    \"Comercial\":\"Commercial\"\n",
        "})"
      ],
      "id": "ebba2ef6"
    },
    {
      "cell_type": "code",
      "execution_count": null,
      "metadata": {
        "id": "027a9ff1"
      },
      "outputs": [],
      "source": [
        "data.BUILDTYPE.value_counts()"
      ],
      "id": "027a9ff1"
    },
    {
      "cell_type": "code",
      "execution_count": null,
      "metadata": {
        "id": "399a5b18"
      },
      "outputs": [],
      "source": [
        "data.UTILITY_AVAIL.value_counts()"
      ],
      "id": "399a5b18"
    },
    {
      "cell_type": "code",
      "execution_count": null,
      "metadata": {
        "id": "580d689a"
      },
      "outputs": [],
      "source": [
        "data[\"UTILITY_AVAIL\"] = data.UTILITY_AVAIL.replace({\"All Pub\":\"AllPub\"})"
      ],
      "id": "580d689a"
    },
    {
      "cell_type": "code",
      "execution_count": null,
      "metadata": {
        "id": "bddc1a54"
      },
      "outputs": [],
      "source": [
        "data.UTILITY_AVAIL.value_counts()"
      ],
      "id": "bddc1a54"
    },
    {
      "cell_type": "code",
      "execution_count": null,
      "metadata": {
        "id": "31bb18ac"
      },
      "outputs": [],
      "source": [
        "data.STREET.value_counts()"
      ],
      "id": "31bb18ac"
    },
    {
      "cell_type": "code",
      "execution_count": null,
      "metadata": {
        "id": "3d8508c4"
      },
      "outputs": [],
      "source": [
        "data[\"STREET\"] = data.STREET.replace({\"Pavd\":\"Paved\",\n",
        "                                       \"NO Access\":\"No Access\",\"NoAccess\":\"No Access\"})"
      ],
      "id": "3d8508c4"
    },
    {
      "cell_type": "code",
      "execution_count": null,
      "metadata": {
        "id": "e62b4704"
      },
      "outputs": [],
      "source": [
        "data.STREET.value_counts()"
      ],
      "id": "e62b4704"
    },
    {
      "cell_type": "markdown",
      "metadata": {
        "id": "739d15d5"
      },
      "source": [
        "Here we corrected spellings of all catagorical values"
      ],
      "id": "739d15d5"
    },
    {
      "cell_type": "code",
      "execution_count": null,
      "metadata": {
        "id": "10c494e4"
      },
      "outputs": [],
      "source": [
        "#2.convert date time coumns to datetime type\n",
        "data['DATE_SALE']=pd.to_datetime(data.DATE_SALE)\n",
        "data['DATE_BUILD']=pd.to_datetime(data.DATE_BUILD)"
      ],
      "id": "10c494e4"
    },
    {
      "cell_type": "code",
      "execution_count": null,
      "metadata": {
        "id": "e075d448"
      },
      "outputs": [],
      "source": [
        "data['BUILD_YEAR'] = data['DATE_BUILD'].dt.year\n",
        "data['SALE_YEAR'] =data['DATE_SALE'].dt.year"
      ],
      "id": "e075d448"
    },
    {
      "cell_type": "markdown",
      "metadata": {
        "id": "bd6dc6a9"
      },
      "source": [
        "#### Checking for duplicate values"
      ],
      "id": "bd6dc6a9"
    },
    {
      "cell_type": "code",
      "execution_count": null,
      "metadata": {
        "id": "ea0f9ae3"
      },
      "outputs": [],
      "source": [
        "data.duplicated().any()"
      ],
      "id": "ea0f9ae3"
    },
    {
      "cell_type": "markdown",
      "metadata": {
        "id": "8c96241b"
      },
      "source": [
        "#### Removing unwanted column"
      ],
      "id": "8c96241b"
    },
    {
      "cell_type": "code",
      "execution_count": null,
      "metadata": {
        "id": "71f18cc3"
      },
      "outputs": [],
      "source": [],
      "id": "71f18cc3"
    },
    {
      "cell_type": "code",
      "execution_count": null,
      "metadata": {
        "id": "2c937740"
      },
      "outputs": [],
      "source": [
        "df=data.drop(['DATE_SALE',\"DATE_BUILD\"],axis = 1)"
      ],
      "id": "2c937740"
    },
    {
      "cell_type": "code",
      "execution_count": null,
      "metadata": {
        "id": "eaebd4f1"
      },
      "outputs": [],
      "source": [
        "df = data.drop(['PRT_ID','REG_FEE','COMMIS'],axis=1)\n"
      ],
      "id": "eaebd4f1"
    },
    {
      "cell_type": "code",
      "execution_count": null,
      "metadata": {
        "id": "ad80b293"
      },
      "outputs": [],
      "source": [
        "df.drop([\"DATE_SALE\"],axis =1)"
      ],
      "id": "ad80b293"
    },
    {
      "cell_type": "code",
      "execution_count": null,
      "metadata": {
        "id": "66493057"
      },
      "outputs": [],
      "source": [
        "df.columns"
      ],
      "id": "66493057"
    },
    {
      "cell_type": "code",
      "execution_count": null,
      "metadata": {
        "id": "ccb64e75"
      },
      "outputs": [],
      "source": [
        "df.shape"
      ],
      "id": "ccb64e75"
    },
    {
      "cell_type": "markdown",
      "metadata": {
        "id": "256f9175"
      },
      "source": [
        "Here no duplicate values found"
      ],
      "id": "256f9175"
    },
    {
      "cell_type": "markdown",
      "metadata": {
        "id": "87c56462"
      },
      "source": [
        "## Visualising Data"
      ],
      "id": "87c56462"
    },
    {
      "cell_type": "code",
      "execution_count": null,
      "metadata": {
        "id": "97146d3d"
      },
      "outputs": [],
      "source": [
        "df.keys()"
      ],
      "id": "97146d3d"
    },
    {
      "cell_type": "markdown",
      "metadata": {
        "id": "4d046ae0"
      },
      "source": [
        "1.AREA"
      ],
      "id": "4d046ae0"
    },
    {
      "cell_type": "markdown",
      "metadata": {
        "id": "c92689cc"
      },
      "source": [
        "AS we can see here no.of houses are more in chrompet and karapakkam as price is low here as compared to anna nagar and t nagar where price of houses are quite high and no. of houses are low ."
      ],
      "id": "c92689cc"
    },
    {
      "cell_type": "code",
      "execution_count": null,
      "metadata": {
        "id": "3377c274"
      },
      "outputs": [],
      "source": [
        "sns.countplot(data=df,x='AREA',palette='viridis');\n",
        "plt.title('NO OF HOUSES IN EACH AREA')\n",
        "plt.show()"
      ],
      "id": "3377c274"
    },
    {
      "cell_type": "code",
      "execution_count": null,
      "metadata": {
        "id": "eb5d3a64"
      },
      "outputs": [],
      "source": [
        "sns.barplot(data=df,x = 'AREA',y=\"SALES_PRICE\",palette='Accent');\n",
        "plt.title('AREA v/s SALES PRICE')"
      ],
      "id": "eb5d3a64"
    },
    {
      "cell_type": "code",
      "execution_count": null,
      "metadata": {
        "id": "5250250c"
      },
      "outputs": [],
      "source": [],
      "id": "5250250c"
    },
    {
      "cell_type": "code",
      "execution_count": null,
      "metadata": {
        "id": "da59d6e6"
      },
      "outputs": [],
      "source": [
        "plt.figure(figsize=(18,10))\n",
        "sns.barplot(data=df,x = 'AREA',y=\"SALES_PRICE\",hue='N_BEDROOM',palette='prism')"
      ],
      "id": "da59d6e6"
    },
    {
      "cell_type": "code",
      "execution_count": null,
      "metadata": {
        "id": "093f3767"
      },
      "outputs": [],
      "source": [
        "sns.barplot(data=df,x = 'AREA',y=\"SALES_PRICE\",hue='N_ROOM',palette='prism')"
      ],
      "id": "093f3767"
    },
    {
      "cell_type": "code",
      "execution_count": null,
      "metadata": {
        "id": "53d12fab"
      },
      "outputs": [],
      "source": [
        "sns.barplot(data=df,x = 'AREA',y=\"SALES_PRICE\",hue='PARK_FACIL',palette='spring')"
      ],
      "id": "53d12fab"
    },
    {
      "cell_type": "code",
      "execution_count": null,
      "metadata": {
        "id": "fe09c865",
        "scrolled": true
      },
      "outputs": [],
      "source": [
        "sns.barplot(data=df,x = 'AREA',y=\"SALES_PRICE\",hue='BUILDTYPE',palette='prism')"
      ],
      "id": "fe09c865"
    },
    {
      "cell_type": "code",
      "execution_count": null,
      "metadata": {
        "id": "f55b5bb5"
      },
      "outputs": [],
      "source": [
        "sns.barplot(data=df,x = 'AREA',y='INT_SQFT',palette='rainbow')"
      ],
      "id": "f55b5bb5"
    },
    {
      "cell_type": "markdown",
      "metadata": {
        "id": "20207202"
      },
      "source": [],
      "id": "20207202"
    },
    {
      "cell_type": "code",
      "execution_count": null,
      "metadata": {
        "id": "2e567026"
      },
      "outputs": [],
      "source": [
        "sns.barplot(data=df,x = 'AREA',y=\"SALES_PRICE\",hue='STREET',palette='hsv')"
      ],
      "id": "2e567026"
    },
    {
      "cell_type": "code",
      "execution_count": null,
      "metadata": {
        "id": "40226939"
      },
      "outputs": [],
      "source": [
        "df.keys()"
      ],
      "id": "40226939"
    },
    {
      "cell_type": "code",
      "execution_count": null,
      "metadata": {
        "id": "9b3785a8"
      },
      "outputs": [],
      "source": [],
      "id": "9b3785a8"
    },
    {
      "cell_type": "code",
      "execution_count": null,
      "metadata": {
        "id": "fb451a70"
      },
      "outputs": [],
      "source": [
        "sns.lineplot(data= df,x= 'AREA',y='QS_OVERALL')"
      ],
      "id": "fb451a70"
    },
    {
      "cell_type": "markdown",
      "metadata": {
        "id": "83ef62ce"
      },
      "source": [
        "From above analysis we understand following points\n",
        "\n",
        "1.Chrompet and karapakkam have more no. of houses as compared to other areas.\n",
        "\n",
        "2.Price of houses are higher in T nagar followed by anna nagar.\n",
        "\n",
        "3.Floor area in sqft. is more in KK nagar. Velachery,T nagar and anna nagr have houses of same areas which is less than kk nagar.\n",
        "\n",
        "4 . Commercial type of building getting more price than houses in all localities. Anna nagar and T nagar has highest price for Commercial type of buildings.\n"
      ],
      "id": "83ef62ce"
    },
    {
      "cell_type": "code",
      "execution_count": null,
      "metadata": {
        "id": "7024e8bc"
      },
      "outputs": [],
      "source": [
        "sns.set_theme(style=\"darkgrid\",palette=\"hsv\")\n",
        "plt.figure(figsize=(20,16))\n",
        "plt.subplot(231)\n",
        "sns.barplot(x='AREA',y='SALES_PRICE',data=df,order=df.groupby('AREA')['SALES_PRICE'].mean().reset_index().sort_values('SALES_PRICE')['AREA'])\n",
        "plt.xticks(rotation=15)\n",
        "plt.title('Sales price v/s area')\n",
        "plt.subplot(232)\n",
        "sns.barplot(x='BUILDTYPE',y='SALES_PRICE',data=df,order=df.groupby('BUILDTYPE')['SALES_PRICE'].mean().reset_index().sort_values('SALES_PRICE')['BUILDTYPE'])\n",
        "plt.xticks(rotation=15)\n",
        "plt.title('Buildtype v/s sales price')\n",
        "plt.subplot(233)\n",
        "sns.barplot(x='UTILITY_AVAIL',y='SALES_PRICE',data=df,order=df.groupby('UTILITY_AVAIL')['SALES_PRICE'].mean().reset_index().sort_values('SALES_PRICE')['UTILITY_AVAIL'])\n",
        "plt.xticks(rotation=15)\n",
        "plt.title('utility available v/s sales price')\n",
        "plt.subplot(234)\n",
        "sns.barplot(x='STREET',y='SALES_PRICE',data=df,order=df.groupby('STREET')['SALES_PRICE'].mean().reset_index().sort_values('SALES_PRICE')['STREET'])\n",
        "plt.xticks(rotation=15)\n",
        "plt.title('Type of stree available v/s sales price')\n",
        "plt.subplot(235)\n",
        "sns.barplot(x='PARK_FACIL',y='SALES_PRICE',data=df)\n",
        "plt.xticks(rotation=15)\n",
        "plt.title('Parking availble v/s Sales Price')\n",
        "plt.subplot(236)\n",
        "sns.barplot(x='MZZONE',y='SALES_PRICE',data=df)\n",
        "plt.xticks(rotation=15)\n",
        "plt.title('Municiple zone vs sales price')\n",
        "plt.show()"
      ],
      "id": "7024e8bc"
    },
    {
      "cell_type": "code",
      "execution_count": null,
      "metadata": {
        "id": "ff4180a9"
      },
      "outputs": [],
      "source": [
        "sns.barplot(x='N_BEDROOM',y='SALES_PRICE',data=df,palette = 'RdGy',order=df.groupby('N_BEDROOM')['SALES_PRICE'].mean().reset_index().sort_values('SALES_PRICE')['N_BEDROOM'])\n",
        "\n",
        "plt.show()"
      ],
      "id": "ff4180a9"
    },
    {
      "cell_type": "code",
      "execution_count": null,
      "metadata": {
        "id": "gynA5JhoW02n"
      },
      "outputs": [],
      "source": [
        "sns.countplot(data=data, x='SALE_YEAR', palette='gist_rainbow')\n",
        "plt.title(\"Number of Houses sold per year\")\n",
        "plt.show()"
      ],
      "id": "gynA5JhoW02n"
    },
    {
      "cell_type": "code",
      "execution_count": null,
      "metadata": {
        "id": "lfq5ArV7YTt7"
      },
      "outputs": [],
      "source": [
        "sns.set_palette('Accent')\n",
        "ax = sns.regplot(data=data, x='BUILD_YEAR', y='SALES_PRICE')\n",
        "plt.title(\"Built year of house Vs. sales price\")\n",
        "plt.show()"
      ],
      "id": "lfq5ArV7YTt7"
    },
    {
      "cell_type": "code",
      "execution_count": null,
      "metadata": {
        "id": "_e76Z3_0eYg4"
      },
      "outputs": [],
      "source": [
        "sns.lineplot(data=data, x='BUILD_YEAR', y='SALES_PRICE', color='blue')\n",
        "plt.title(\"Yearwise house sales price\")\n",
        "plt.show()"
      ],
      "id": "_e76Z3_0eYg4"
    },
    {
      "cell_type": "code",
      "execution_count": null,
      "metadata": {
        "id": "Lcvfhc0eejWD"
      },
      "outputs": [],
      "source": [
        "plt.figure(figsize=(20,12))\n",
        "sns.barplot(data=data, x='BUILD_YEAR', y='SALES_PRICE',hue = 'AREA')\n",
        "plt.title(\"Yearwise house sales price\")\n",
        "plt.xticks(rotation=70)\n",
        "plt.show()"
      ],
      "id": "Lcvfhc0eejWD"
    },
    {
      "cell_type": "code",
      "execution_count": null,
      "metadata": {
        "id": "QwxLLa1zeMVD"
      },
      "outputs": [],
      "source": [
        "sns.lineplot(data=data, x='SALE_YEAR', y='SALES_PRICE', color='green')\n",
        "plt.title(\"Yearwise house sales price\")\n",
        "plt.show()"
      ],
      "id": "QwxLLa1zeMVD"
    },
    {
      "cell_type": "code",
      "execution_count": null,
      "metadata": {
        "id": "1aa15612"
      },
      "outputs": [],
      "source": [
        "sns.barplot(x='N_BATHROOM',y='SALES_PRICE',data=df,palette = 'rocket',order=df.groupby('N_BATHROOM')['SALES_PRICE'].mean().reset_index().sort_values('SALES_PRICE')['N_BATHROOM'])\n",
        "\n"
      ],
      "id": "1aa15612"
    },
    {
      "cell_type": "code",
      "execution_count": null,
      "metadata": {
        "id": "3134b2b7"
      },
      "outputs": [],
      "source": [
        "sns.heatmap(df.corr(),annot= True);"
      ],
      "id": "3134b2b7"
    },
    {
      "cell_type": "code",
      "execution_count": null,
      "metadata": {
        "id": "be3e987f"
      },
      "outputs": [],
      "source": [
        "plt.figure(figsize=(20,20))\n",
        "sns.pairplot(df,x_vars=['INT_SQFT', 'DIST_MAINROAD', 'N_BEDROOM', 'N_BATHROOM', 'N_ROOM','QS_ROOMS', 'QS_BATHROOM', 'QS_BEDROOM', 'QS_OVERALL'],\n",
        "             y_vars=[\"SALES_PRICE\"],palette='cool',kind=\"reg\")\n",
        "plt.show()"
      ],
      "id": "be3e987f"
    },
    {
      "cell_type": "code",
      "execution_count": null,
      "metadata": {
        "id": "_J4BdORJfiRF"
      },
      "outputs": [],
      "source": [
        "plt.figure(figsize=(17,8))\n",
        "num_col.plot.box(grid = True);\n",
        "plt.xticks(rotation =80);\n",
        "plt.show()"
      ],
      "id": "_J4BdORJfiRF"
    },
    {
      "cell_type": "code",
      "execution_count": null,
      "metadata": {
        "id": "AvNB1Q4fj7rC"
      },
      "outputs": [],
      "source": [
        "sns.boxplot(df.SALES_PRICE)"
      ],
      "id": "AvNB1Q4fj7rC"
    },
    {
      "cell_type": "code",
      "execution_count": null,
      "metadata": {
        "id": "hMReL-vcki69"
      },
      "outputs": [],
      "source": [
        "sns.distplot(df.SALES_PRICE)"
      ],
      "id": "hMReL-vcki69"
    },
    {
      "cell_type": "markdown",
      "metadata": {
        "id": "7Vm5ogsZjqo_"
      },
      "source": [
        "##### only sales price has outliers but we cant remove these outliers as it it most important column for us"
      ],
      "id": "7Vm5ogsZjqo_"
    },
    {
      "cell_type": "markdown",
      "metadata": {
        "id": "cxFctCmclJwk"
      },
      "source": [
        "1. T nagar has highest avg ,selling price and karapakkam has lowest avg selling price. so concentration of house is more in area having low price homes.\n",
        "\n",
        "2. commercial building prices are higher than residential buildings.\n",
        "\n",
        "3. utilities does not affect too much on sales price.\n",
        "\n",
        "4. houses having paved and gravel road around it has little bit costlier.\n",
        "\n",
        "5. building with parking facility does not affect on sales price too much.\n",
        "\n",
        "6. RM,RL,RH zones having higher house cost than other zones.\n",
        "\n",
        "7. More the no. rooms more the price.\n",
        "\n",
        "8. higher floor area,higher the sales price"
      ],
      "id": "cxFctCmclJwk"
    },
    {
      "cell_type": "code",
      "execution_count": null,
      "metadata": {
        "id": "4fbafc8b"
      },
      "outputs": [],
      "source": [],
      "id": "4fbafc8b"
    },
    {
      "cell_type": "markdown",
      "metadata": {
        "id": "5c354005"
      },
      "source": [
        "### DATA PREPROCESSING"
      ],
      "id": "5c354005"
    },
    {
      "cell_type": "markdown",
      "metadata": {
        "id": "3789647b"
      },
      "source": [],
      "id": "3789647b"
    },
    {
      "cell_type": "code",
      "execution_count": null,
      "metadata": {
        "id": "WI2u2NcloFSv"
      },
      "outputs": [],
      "source": [
        "df.keys()"
      ],
      "id": "WI2u2NcloFSv"
    },
    {
      "cell_type": "code",
      "execution_count": null,
      "metadata": {
        "id": "B4QKrsUtoIWI"
      },
      "outputs": [],
      "source": [],
      "id": "B4QKrsUtoIWI"
    },
    {
      "cell_type": "code",
      "execution_count": null,
      "metadata": {
        "id": "5ef518ea"
      },
      "outputs": [],
      "source": [
        "from sklearn.preprocessing import LabelEncoder"
      ],
      "id": "5ef518ea"
    },
    {
      "cell_type": "code",
      "execution_count": null,
      "metadata": {
        "id": "6a769e90"
      },
      "outputs": [],
      "source": [
        "le = LabelEncoder()"
      ],
      "id": "6a769e90"
    },
    {
      "cell_type": "code",
      "execution_count": null,
      "metadata": {
        "id": "f2ded791"
      },
      "outputs": [],
      "source": [
        "cat_col.keys()"
      ],
      "id": "f2ded791"
    },
    {
      "cell_type": "code",
      "execution_count": null,
      "metadata": {
        "id": "b0dab7e7"
      },
      "outputs": [],
      "source": [
        "df['PARK_FACIL']=le.fit_transform(df['PARK_FACIL'])\n",
        "df['AREA']=le.fit_transform(df['AREA'])\n",
        "df['SALE_COND']=le.fit_transform(df['SALE_COND'])\n",
        "df['UTILITY_AVAIL']=le.fit_transform(df['UTILITY_AVAIL'])\n",
        "df['STREET']=le.fit_transform(df['STREET'])\n",
        "df['MZZONE']=le.fit_transform(df['MZZONE'])"
      ],
      "id": "b0dab7e7"
    },
    {
      "cell_type": "code",
      "execution_count": null,
      "metadata": {
        "id": "172b2cb3"
      },
      "outputs": [],
      "source": [],
      "id": "172b2cb3"
    },
    {
      "cell_type": "code",
      "execution_count": null,
      "metadata": {
        "id": "22324a48"
      },
      "outputs": [],
      "source": [
        "df.shape"
      ],
      "id": "22324a48"
    },
    {
      "cell_type": "code",
      "execution_count": null,
      "metadata": {
        "id": "d5ad017e"
      },
      "outputs": [],
      "source": [
        "df.head()"
      ],
      "id": "d5ad017e"
    },
    {
      "cell_type": "code",
      "execution_count": null,
      "metadata": {
        "id": "YWmiKfNOne_W"
      },
      "outputs": [],
      "source": [],
      "id": "YWmiKfNOne_W"
    },
    {
      "cell_type": "code",
      "execution_count": null,
      "metadata": {
        "id": "J2lleSpDpBQc"
      },
      "outputs": [],
      "source": [
        "df.STREET.head()"
      ],
      "id": "J2lleSpDpBQc"
    },
    {
      "cell_type": "markdown",
      "metadata": {
        "id": "yMo26rNopmpN"
      },
      "source": [
        "#### One Hot Encoding"
      ],
      "id": "yMo26rNopmpN"
    },
    {
      "cell_type": "code",
      "execution_count": null,
      "metadata": {
        "id": "UxDH8UwVplf3"
      },
      "outputs": [],
      "source": [
        "df = pd.get_dummies(df)"
      ],
      "id": "UxDH8UwVplf3"
    },
    {
      "cell_type": "code",
      "execution_count": null,
      "metadata": {
        "id": "y0JJx2NOpx-Y"
      },
      "outputs": [],
      "source": [
        "df.head()"
      ],
      "id": "y0JJx2NOpx-Y"
    },
    {
      "cell_type": "code",
      "execution_count": null,
      "metadata": {
        "id": "o4vBr2DBpylt"
      },
      "outputs": [],
      "source": [
        "df.info()"
      ],
      "id": "o4vBr2DBpylt"
    },
    {
      "cell_type": "code",
      "execution_count": null,
      "metadata": {
        "id": "5pA9etH-r4ov"
      },
      "outputs": [],
      "source": [
        "df.keys()\n"
      ],
      "id": "5pA9etH-r4ov"
    },
    {
      "cell_type": "code",
      "execution_count": null,
      "metadata": {
        "id": "zJVFxeY6rjFr"
      },
      "outputs": [],
      "source": [
        "#dropping unwanted columns\n",
        "df.drop(['DATE_SALE','DIST_MAINROAD','DATE_BUILD','QS_ROOMS', 'QS_BATHROOM','QS_BEDROOM', 'QS_OVERALL'],axis=1,inplace =True)"
      ],
      "id": "zJVFxeY6rjFr"
    },
    {
      "cell_type": "code",
      "execution_count": null,
      "metadata": {
        "id": "Knv1-L4tslz-"
      },
      "outputs": [],
      "source": [
        "df.head()"
      ],
      "id": "Knv1-L4tslz-"
    },
    {
      "cell_type": "code",
      "execution_count": null,
      "metadata": {
        "id": "7q1ktScbs-fb"
      },
      "outputs": [],
      "source": [
        "df.shape"
      ],
      "id": "7q1ktScbs-fb"
    },
    {
      "cell_type": "code",
      "execution_count": null,
      "metadata": {
        "id": "xLFjGlbHm7LW"
      },
      "outputs": [],
      "source": [
        "df.to_csv('chennai_final.csv', index=False)"
      ],
      "id": "xLFjGlbHm7LW"
    },
    {
      "cell_type": "code",
      "execution_count": null,
      "metadata": {
        "id": "iCAo06yKz_j6"
      },
      "outputs": [],
      "source": [
        "## importing final dataset\n",
        "df = pd.read_csv(\"chennai_final.csv\")"
      ],
      "id": "iCAo06yKz_j6"
    },
    {
      "cell_type": "code",
      "execution_count": null,
      "metadata": {
        "id": "irnFzWebnd59"
      },
      "outputs": [],
      "source": [
        "df.head()"
      ],
      "id": "irnFzWebnd59"
    },
    {
      "cell_type": "code",
      "execution_count": null,
      "metadata": {
        "id": "zirZaDXrnjy6"
      },
      "outputs": [],
      "source": [
        "df.shape"
      ],
      "id": "zirZaDXrnjy6"
    },
    {
      "cell_type": "code",
      "execution_count": null,
      "metadata": {
        "id": "zZln1D-8s_VF"
      },
      "outputs": [],
      "source": [
        "plt.figure()\n",
        "plt.subplot(231)\n",
        "plt.xlabel(\"INT_SQFT\")\n",
        "df.INT_SQFT.plot(kind='kde')\n",
        "plt.subplot(232)\n",
        "df.SALES_PRICE.plot(kind='kde')\n",
        "plt.xlabel('SALES_PRICE')\n",
        "plt.show()\n"
      ],
      "id": "zZln1D-8s_VF"
    },
    {
      "cell_type": "code",
      "execution_count": null,
      "metadata": {
        "id": "E8kt7OERzf5v"
      },
      "outputs": [],
      "source": [
        "df['INT_SQFT'] = np.log(df.INT_SQFT)"
      ],
      "id": "E8kt7OERzf5v"
    },
    {
      "cell_type": "code",
      "execution_count": null,
      "metadata": {
        "id": "93D-OuYU6AOe"
      },
      "outputs": [],
      "source": [
        "df.INT_SQFT.plot(kind = 'kde')\n",
        "plt.title('INT_SQFT distribution after log tranceformation')"
      ],
      "id": "93D-OuYU6AOe"
    },
    {
      "cell_type": "markdown",
      "metadata": {
        "id": "A9OLZLwymaQ4"
      },
      "source": [
        "After log tranceformation the distribution looks better than before."
      ],
      "id": "A9OLZLwymaQ4"
    },
    {
      "cell_type": "markdown",
      "metadata": {
        "id": "osbjRiKBn02_"
      },
      "source": [
        "# Machine learning part"
      ],
      "id": "osbjRiKBn02_"
    },
    {
      "cell_type": "code",
      "execution_count": null,
      "metadata": {
        "id": "X3FibTllmY9a"
      },
      "outputs": [],
      "source": [
        "#from sklearn.model_selection import train_test_split\n",
        "#from sklearn.linear_model import LinearRegression\n",
        "#from sklearn.neighbors import KNeighborsRegressor\n",
        "#from sklearn.tree import DecisionTreeRegressor\n",
        "#from sklearn.ensemble import RandomForestRegressor, AdaBoostRegressor\n",
        "#from sklearn.preprocessing import StandardScaler\n",
        "#from sklearn.model_selection import GridSearchCV, cross_val_score, RepeatedKFold\n",
        "#from sklearn.model_selection import RepeatedStratifiedKFold\n",
        "#from sklearn import metrics"
      ],
      "id": "X3FibTllmY9a"
    },
    {
      "cell_type": "markdown",
      "metadata": {
        "id": "fuUJmORnsdvU"
      },
      "source": [
        "### Tain test split"
      ],
      "id": "fuUJmORnsdvU"
    },
    {
      "cell_type": "code",
      "execution_count": null,
      "metadata": {
        "id": "anLqs3ban-4I"
      },
      "outputs": [],
      "source": [
        "from sklearn.model_selection import train_test_split"
      ],
      "id": "anLqs3ban-4I"
    },
    {
      "cell_type": "code",
      "execution_count": null,
      "metadata": {
        "id": "yyR-LrSSsq7k"
      },
      "outputs": [],
      "source": [
        "X = df.drop(['SALES_PRICE'],axis = 1)"
      ],
      "id": "yyR-LrSSsq7k"
    },
    {
      "cell_type": "code",
      "execution_count": null,
      "metadata": {
        "id": "qRqtX1A-tmA8"
      },
      "outputs": [],
      "source": [
        "y = df.SALES_PRICE"
      ],
      "id": "qRqtX1A-tmA8"
    },
    {
      "cell_type": "code",
      "execution_count": null,
      "metadata": {
        "id": "NIqGwHQJtrh1"
      },
      "outputs": [],
      "source": [
        "X_train,X_test,y_train,y_test = train_test_split(X,y,shuffle = True, random_state =45,test_size=0.2)"
      ],
      "id": "NIqGwHQJtrh1"
    },
    {
      "cell_type": "markdown",
      "metadata": {
        "id": "i2DTrVrGupEu"
      },
      "source": [
        "### Feature Scaling\n",
        " we use this method to normalize the range of independent variables or features of data."
      ],
      "id": "i2DTrVrGupEu"
    },
    {
      "cell_type": "code",
      "execution_count": null,
      "metadata": {
        "id": "KhWpxQY5uzM4"
      },
      "outputs": [],
      "source": [
        "from sklearn.preprocessing import StandardScaler\n"
      ],
      "id": "KhWpxQY5uzM4"
    },
    {
      "cell_type": "code",
      "execution_count": null,
      "metadata": {
        "id": "C8y8IEwkvA3e"
      },
      "outputs": [],
      "source": [
        "scl = StandardScaler()"
      ],
      "id": "C8y8IEwkvA3e"
    },
    {
      "cell_type": "code",
      "execution_count": null,
      "metadata": {
        "id": "vEv_oqm0xv8z"
      },
      "outputs": [],
      "source": [
        "X_train =scl.fit_transform(X_train)\n",
        "X_test = scl.transform(X_test)"
      ],
      "id": "vEv_oqm0xv8z"
    },
    {
      "cell_type": "markdown",
      "metadata": {
        "id": "lawf29bjyYgU"
      },
      "source": [
        "## Model 1 Simple linear regression"
      ],
      "id": "lawf29bjyYgU"
    },
    {
      "cell_type": "code",
      "execution_count": null,
      "metadata": {
        "id": "SSy0ountVuql"
      },
      "outputs": [],
      "source": [
        "from sklearn.linear_model import LinearRegression"
      ],
      "id": "SSy0ountVuql"
    },
    {
      "cell_type": "code",
      "execution_count": null,
      "metadata": {
        "id": "vDch2M3XyX1O"
      },
      "outputs": [],
      "source": [
        "lr = LinearRegression().fit(X_train,y_train)\n"
      ],
      "id": "vDch2M3XyX1O"
    },
    {
      "cell_type": "code",
      "execution_count": null,
      "metadata": {
        "id": "JQCjhIKwyL-e"
      },
      "outputs": [],
      "source": [
        "y_pred =lr.predict(X_test)"
      ],
      "id": "JQCjhIKwyL-e"
    },
    {
      "cell_type": "markdown",
      "metadata": {
        "id": "yVjksV3IWipZ"
      },
      "source": [
        "Evaluation metrics for linear regression"
      ],
      "id": "yVjksV3IWipZ"
    },
    {
      "cell_type": "code",
      "execution_count": null,
      "metadata": {
        "id": "RG1rHnga0xWO"
      },
      "outputs": [],
      "source": [
        "from sklearn import metrics"
      ],
      "id": "RG1rHnga0xWO"
    },
    {
      "cell_type": "code",
      "execution_count": null,
      "metadata": {
        "id": "J6X0LBoEWsa_"
      },
      "outputs": [],
      "source": [
        "lr_score = metrics.r2_score(y_test,y_pred)\n",
        "lr_mae = metrics.mean_absolute_error(y_test,y_pred)"
      ],
      "id": "J6X0LBoEWsa_"
    },
    {
      "cell_type": "code",
      "execution_count": null,
      "metadata": {
        "id": "5k07odr2XB7F"
      },
      "outputs": [],
      "source": [
        "print(\"Score on train data: {:.2f}\".format(lr.score(X_train, y_train)))\n",
        "print(\"Score on Train data: {:.2f}\".format(lr.score(X_test, y_test)))\n",
        "print(\"R2 score: {:.2f}\".format(metrics.r2_score(y_test, y_pred)))\n",
        "print(\"MSE: {:.2f}\".format(metrics.mean_squared_error(y_test, y_pred)))\n",
        "print(\"MAE: {:.2f}\".format(metrics.mean_absolute_error(y_test, y_pred)))"
      ],
      "id": "5k07odr2XB7F"
    },
    {
      "cell_type": "code",
      "execution_count": null,
      "metadata": {
        "id": "MMy2zF7KXpYS"
      },
      "outputs": [],
      "source": [
        "lr_prediction = pd.DataFrame({\n",
        "    'actual':y_test,\n",
        "    'predicted':y_pred.flatten()\n",
        "})\n",
        "\n",
        "lr_prediction.head()"
      ],
      "id": "MMy2zF7KXpYS"
    },
    {
      "cell_type": "code",
      "execution_count": null,
      "metadata": {
        "id": "YXGdSvMfYsiD"
      },
      "outputs": [],
      "source": [
        "plt.figure(figsize=(15,4))\n",
        "sns.kdeplot(data=lr_prediction, x='actual', label='actual', shade=True)\n",
        "sns.kdeplot(data=lr_prediction, x='predicted', label='predicted', shade=True)\n",
        "plt.title(\"Actual Price Vs Predicted Price\")\n",
        "plt.legend()\n",
        "plt.show()"
      ],
      "id": "YXGdSvMfYsiD"
    },
    {
      "cell_type": "code",
      "execution_count": null,
      "metadata": {
        "id": "DMZrCRsCY1pK"
      },
      "outputs": [],
      "source": [
        "# coefficients\n",
        "lr_coefficient = pd.Series(lr.coef_, index=X.columns.tolist())\n",
        "\n",
        "plt.figure(figsize=(15, 4))\n",
        "lr_coefficient.plot(kind='bar', color=['red'])\n",
        "plt.title(\"Coefficients of attributes for linear regressor\")\n",
        "plt.show()\n"
      ],
      "id": "DMZrCRsCY1pK"
    },
    {
      "cell_type": "markdown",
      "metadata": {
        "id": "cl2ba7mp38Zb"
      },
      "source": [
        "### Random Forest Regressor"
      ],
      "id": "cl2ba7mp38Zb"
    },
    {
      "cell_type": "code",
      "execution_count": null,
      "metadata": {
        "id": "3IdvAzER4Axo"
      },
      "outputs": [],
      "source": [
        "from sklearn.ensemble import RandomForestRegressor"
      ],
      "id": "3IdvAzER4Axo"
    },
    {
      "cell_type": "code",
      "execution_count": null,
      "metadata": {
        "id": "bxnkjlH33rdG"
      },
      "outputs": [],
      "source": [
        "rf_regressor = RandomForestRegressor(random_state=0).fit(X_train, y_train)\n",
        "\n",
        "rf_y_predict = rf_regressor.predict(X_test)\n",
        "\n",
        "\n",
        "# score\n",
        "print(\"RF Training score: {:.2f}\".format(rf_regressor.score(X_train, y_train)))\n",
        "print(\"RF Test score: {:.2f}\".format(rf_regressor.score(X_test, y_test)))\n",
        "\n",
        "\n",
        "print(\"\")\n",
        "print(\"RF R2 score: {:.2f}\".format(metrics.r2_score(y_test, rf_y_predict)))\n",
        "print(\"RF MSE: {:.2f}\".format(metrics.mean_squared_error(y_test, rf_y_predict)))\n",
        "print(\"RF MAE: {:.2f}\".format(metrics.mean_absolute_error(y_test, rf_y_predict)))"
      ],
      "id": "bxnkjlH33rdG"
    },
    {
      "cell_type": "code",
      "execution_count": null,
      "metadata": {
        "id": "yAq6Vr9f3_Gb"
      },
      "outputs": [],
      "source": [
        "\n",
        "\n",
        "rf_prediction = pd.DataFrame({\n",
        "    'actual':y_test,\n",
        "    'predicted': rf_y_predict.flatten()\n",
        "})\n",
        "\n",
        "\n",
        "plt.figure(figsize=(15,4))\n",
        "sns.kdeplot(data=rf_prediction, x='actual', label='actual', shade=True)\n",
        "sns.kdeplot(data=rf_prediction, x='predicted', label='predicted', color='#e74c3c', shade=True)\n",
        "plt.title(\"Actual Price Vs Predicted Price by RF Regressor\")\n",
        "plt.legend()\n",
        "plt.show()"
      ],
      "id": "yAq6Vr9f3_Gb"
    },
    {
      "cell_type": "markdown",
      "metadata": {
        "id": "tpod9--K4dPJ"
      },
      "source": [
        "#### Cross validation of random forest regressor"
      ],
      "id": "tpod9--K4dPJ"
    },
    {
      "cell_type": "code",
      "execution_count": null,
      "metadata": {
        "id": "38f7LD_14X4K"
      },
      "outputs": [],
      "source": [
        "rf_search = GridSearchCV(\n",
        "    estimator=RandomForestRegressor(),\n",
        "    param_grid={\n",
        "        'max_depth': range(5,10),\n",
        "        'n_estimators': (90,100),\n",
        "        'random_state': [0,20,30]\n",
        "    },\n",
        "    cv=5,\n",
        "    scoring='neg_mean_squared_error',\n",
        "    verbose=0,\n",
        "    n_jobs=-1\n",
        ")\n",
        "\n",
        "grid_result = rf_search.fit(X,y)"
      ],
      "id": "38f7LD_14X4K"
    },
    {
      "cell_type": "code",
      "execution_count": null,
      "metadata": {
        "id": "xkl1_yjJ4lx0"
      },
      "outputs": [],
      "source": [
        "\n",
        "print(\"Best estimator for RF: {}\".format(grid_result.best_estimator_))\n"
      ],
      "id": "xkl1_yjJ4lx0"
    },
    {
      "cell_type": "code",
      "execution_count": null,
      "metadata": {
        "id": "XQWHY5ZR4pv_"
      },
      "outputs": [],
      "source": [
        "# initiating the model with best estimators\n",
        "rf_regressor = RandomForestRegressor(max_depth=9, n_estimators=100, random_state=0)\n",
        "# fit the model with training data\n",
        "rf_regressor.fit(X_train, y_train)\n",
        "# predict on X_test\n",
        "rf_y_predict = rf_regressor.predict(X_test)\n",
        "\n",
        "# score\n",
        "rf_score = metrics.r2_score(y_test, rf_y_predict)\n",
        "rf_mae = metrics.mean_absolute_error(y_test, rf_y_predict)\n",
        "\n",
        "print(\"RF Training score: {:.2f}\".format(rf_regressor.score(X_train, y_train)))\n",
        "print(\"RF Test score: {:.2f}\".format(rf_regressor.score(X_test, y_test)))\n",
        "\n",
        "\n",
        "print(\"\")\n",
        "print(\"RF R2 score: {:.2f}\".format(metrics.r2_score(y_test, rf_y_predict)))\n",
        "print(\"RF MSE: {:.2f}\".format(metrics.mean_squared_error(y_test, rf_y_predict)))\n",
        "print(\"RF MAE: {:.2f}\".format(metrics.mean_absolute_error(y_test, rf_y_predict)))"
      ],
      "id": "XQWHY5ZR4pv_"
    },
    {
      "cell_type": "code",
      "execution_count": null,
      "metadata": {
        "id": "zwyPgbQi4ueu"
      },
      "outputs": [],
      "source": [
        "rf_prediction = pd.DataFrame({\n",
        "    'actual':y_test,\n",
        "    'predicted': rf_y_predict.flatten()\n",
        "})\n",
        "\n",
        "\n",
        "plt.figure(figsize=(15,4))\n",
        "sns.kdeplot(data=rf_prediction, x='actual', label='actual', shade=True)\n",
        "sns.kdeplot(data=rf_prediction, x='predicted', label='predicted', color='#e74c3c', shade=True)\n",
        "plt.title(\"Actual Price Vs Predicted Price by RF Regressor\")\n",
        "plt.legend()\n",
        "plt.show()"
      ],
      "id": "zwyPgbQi4ueu"
    },
    {
      "cell_type": "code",
      "execution_count": null,
      "metadata": {
        "id": "1CK69GLi4yVt"
      },
      "outputs": [],
      "source": [
        "# coefficients of random forest\n",
        "rf_coefficient = pd.Series(rf_regressor.feature_importances_, index=X.columns.tolist())\n",
        "\n",
        "rf_coefficient.sort_values(ascending=False)"
      ],
      "id": "1CK69GLi4yVt"
    },
    {
      "cell_type": "markdown",
      "metadata": {
        "id": "0fJ8GwLI45gN"
      },
      "source": [
        "## Model comparison"
      ],
      "id": "0fJ8GwLI45gN"
    },
    {
      "cell_type": "code",
      "execution_count": null,
      "metadata": {
        "id": "kvvwhpsW40-L"
      },
      "outputs": [],
      "source": [
        "models_df = pd.DataFrame({\n",
        "    'model': \"Linear KNN DecisionTree RandomForerst\".split(),\n",
        "    'r2_score': [lr_score, knn_score, dt_score, rf_score,],\n",
        "    'mae': [lr_mae, knn_mae, dt_mae, rf_mae ]\n",
        "})\n",
        "\n",
        "models_df"
      ],
      "id": "kvvwhpsW40-L"
    },
    {
      "cell_type": "code",
      "source": [],
      "metadata": {
        "id": "kUl-VJ1y4oU3"
      },
      "id": "kUl-VJ1y4oU3",
      "execution_count": null,
      "outputs": []
    },
    {
      "cell_type": "code",
      "execution_count": null,
      "metadata": {
        "id": "u78U334J5DEu"
      },
      "outputs": [],
      "source": [
        "fig, ax = plt.subplots(nrows=1, ncols=2, figsize=(20,5))\n",
        "fig.suptitle(\"Regression Model Comparision\")\n",
        "ax[0].plot(models_df.model, models_df.r2_score, color='black', marker='^')\n",
        "ax[0].set_title(\"R^2\")\n",
        "ax[1].plot(models_df.model, models_df.mae, color='r', marker='o')\n",
        "ax[1].set_title(\"Mean Absolute Error\")\n",
        "plt.show()"
      ],
      "id": "u78U334J5DEu"
    },
    {
      "cell_type": "code",
      "execution_count": null,
      "metadata": {
        "id": "aMX5smjD5GST"
      },
      "outputs": [],
      "source": [],
      "id": "aMX5smjD5GST"
    }
  ],
  "metadata": {
    "colab": {
      "collapsed_sections": [
        "bd6dc6a9"
      ],
      "provenance": []
    },
    "kernelspec": {
      "display_name": "Python 3",
      "language": "python",
      "name": "python3"
    },
    "language_info": {
      "codemirror_mode": {
        "name": "ipython",
        "version": 3
      },
      "file_extension": ".py",
      "mimetype": "text/x-python",
      "name": "python",
      "nbconvert_exporter": "python",
      "pygments_lexer": "ipython3",
      "version": "3.9.7"
    }
  },
  "nbformat": 4,
  "nbformat_minor": 5
}